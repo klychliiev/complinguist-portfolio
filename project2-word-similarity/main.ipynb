{
 "cells": [
  {
   "cell_type": "code",
   "execution_count": 1,
   "metadata": {},
   "outputs": [
    {
     "name": "stdout",
     "output_type": "stream",
     "text": [
      "Defaulting to user installation because normal site-packages is not writeable\n",
      "Collecting nltk\n",
      "  Using cached nltk-3.8.1-py3-none-any.whl (1.5 MB)\n",
      "Collecting fastDamerauLevenshtein\n",
      "  Downloading fastDamerauLevenshtein-1.0.7.tar.gz (36 kB)\n",
      "  Preparing metadata (setup.py) ... \u001b[?25ldone\n",
      "\u001b[?25hCollecting Levenshtein\n",
      "  Using cached Levenshtein-0.25.1-cp310-cp310-manylinux_2_17_x86_64.manylinux2014_x86_64.whl (177 kB)\n",
      "Requirement already satisfied: seaborn in /home/klychliiev/.local/lib/python3.10/site-packages (0.13.2)\n",
      "Requirement already satisfied: matplotlib in /home/klychliiev/.local/lib/python3.10/site-packages (3.8.3)\n",
      "Requirement already satisfied: regex>=2021.8.3 in /home/klychliiev/.local/lib/python3.10/site-packages (from nltk) (2023.12.25)\n",
      "Requirement already satisfied: click in /home/klychliiev/.local/lib/python3.10/site-packages (from nltk) (8.1.7)\n",
      "Requirement already satisfied: tqdm in /home/klychliiev/.local/lib/python3.10/site-packages (from nltk) (4.66.2)\n",
      "Collecting joblib\n",
      "  Using cached joblib-1.4.2-py3-none-any.whl (301 kB)\n",
      "Collecting rapidfuzz<4.0.0,>=3.8.0\n",
      "  Downloading rapidfuzz-3.9.3-cp310-cp310-manylinux_2_17_x86_64.manylinux2014_x86_64.whl (3.4 MB)\n",
      "\u001b[2K     \u001b[38;2;114;156;31m━━━━━━━━━━━━━━━━━━━━━━━━━━━━━━━━━━━━━━━━\u001b[0m \u001b[32m3.4/3.4 MB\u001b[0m \u001b[31m735.1 kB/s\u001b[0m eta \u001b[36m0:00:00\u001b[0mm eta \u001b[36m0:00:01\u001b[0m[36m0:00:01\u001b[0m\n",
      "\u001b[?25hRequirement already satisfied: pandas>=1.2 in /home/klychliiev/.local/lib/python3.10/site-packages (from seaborn) (2.2.1)\n",
      "Requirement already satisfied: numpy!=1.24.0,>=1.20 in /home/klychliiev/.local/lib/python3.10/site-packages (from seaborn) (1.26.4)\n",
      "Requirement already satisfied: kiwisolver>=1.3.1 in /home/klychliiev/.local/lib/python3.10/site-packages (from matplotlib) (1.4.5)\n",
      "Requirement already satisfied: fonttools>=4.22.0 in /home/klychliiev/.local/lib/python3.10/site-packages (from matplotlib) (4.49.0)\n",
      "Requirement already satisfied: contourpy>=1.0.1 in /home/klychliiev/.local/lib/python3.10/site-packages (from matplotlib) (1.2.0)\n",
      "Requirement already satisfied: pyparsing>=2.3.1 in /home/klychliiev/.local/lib/python3.10/site-packages (from matplotlib) (3.1.1)\n",
      "Requirement already satisfied: pillow>=8 in /home/klychliiev/.local/lib/python3.10/site-packages (from matplotlib) (10.2.0)\n",
      "Requirement already satisfied: packaging>=20.0 in /home/klychliiev/.local/lib/python3.10/site-packages (from matplotlib) (23.2)\n",
      "Requirement already satisfied: cycler>=0.10 in /home/klychliiev/.local/lib/python3.10/site-packages (from matplotlib) (0.12.1)\n",
      "Requirement already satisfied: python-dateutil>=2.7 in /home/klychliiev/.local/lib/python3.10/site-packages (from matplotlib) (2.8.2)\n",
      "Requirement already satisfied: tzdata>=2022.7 in /home/klychliiev/.local/lib/python3.10/site-packages (from pandas>=1.2->seaborn) (2024.1)\n",
      "Requirement already satisfied: pytz>=2020.1 in /home/klychliiev/.local/lib/python3.10/site-packages (from pandas>=1.2->seaborn) (2024.1)\n",
      "Requirement already satisfied: six>=1.5 in /usr/lib/python3/dist-packages (from python-dateutil>=2.7->matplotlib) (1.16.0)\n",
      "Building wheels for collected packages: fastDamerauLevenshtein\n",
      "  Building wheel for fastDamerauLevenshtein (setup.py) ... \u001b[?25ldone\n",
      "\u001b[?25h  Created wheel for fastDamerauLevenshtein: filename=fastDamerauLevenshtein-1.0.7-cp310-cp310-linux_x86_64.whl size=53669 sha256=fc1c87903822b78e65de582e6b94d32931d1eee66b7aecd2c8e991f0d3d3222d\n",
      "  Stored in directory: /home/klychliiev/.cache/pip/wheels/de/48/fe/3d80d282115f627c1dcf5764dac377793d2b028087ac461220\n",
      "Successfully built fastDamerauLevenshtein\n",
      "Installing collected packages: fastDamerauLevenshtein, rapidfuzz, joblib, nltk, Levenshtein\n",
      "Successfully installed Levenshtein-0.25.1 fastDamerauLevenshtein-1.0.7 joblib-1.4.2 nltk-3.8.1 rapidfuzz-3.9.3\n"
     ]
    }
   ],
   "source": [
    "!pip install nltk fastDamerauLevenshtein Levenshtein seaborn matplotlib"
   ]
  },
  {
   "cell_type": "code",
   "execution_count": 6,
   "metadata": {},
   "outputs": [
    {
     "name": "stderr",
     "output_type": "stream",
     "text": [
      "[nltk_data] Downloading package punkt to /home/klychliiev/nltk_data...\n",
      "[nltk_data]   Unzipping tokenizers/punkt.zip.\n"
     ]
    },
    {
     "data": {
      "text/plain": [
       "True"
      ]
     },
     "execution_count": 6,
     "metadata": {},
     "output_type": "execute_result"
    }
   ],
   "source": [
    "import nltk\n",
    "nltk.download('punkt')"
   ]
  },
  {
   "cell_type": "code",
   "execution_count": 7,
   "metadata": {},
   "outputs": [
    {
     "name": "stdout",
     "output_type": "stream",
     "text": [
      "Кличлієв Кирило, група №2, Лабораторна робота №2\n",
      "Тлумачення для 'love':\n",
      "a strong positive emotion of regard and affection\n",
      "any object of warm affection or devotion\n",
      "a beloved person; used as terms of endearment\n",
      "a deep feeling of sexual desire and attraction\n",
      "a score of zero in tennis or squash\n",
      "sexual activities (often including sexual intercourse) between two people\n",
      "have a great affection or liking for\n",
      "get pleasure from\n",
      "be enamored or in love with\n",
      "have sexual intercourse with\n",
      "\n",
      "Тлумачення для 'leave':\n",
      "the period of time during which you are absent from work or duty\n",
      "permission to do something\n",
      "the act of departing politely\n",
      "go away from a place\n",
      "go and leave behind, either intentionally or by neglect or forgetfulness\n",
      "act or be so as to become in a specified state\n",
      "leave unchanged or undisturbed or refrain from taking\n",
      "move out of or depart from\n",
      "make a possibility or provide opportunity for; permit to be attainable or cause to remain\n",
      "have as a result or residue\n",
      "remove oneself from an association with or participation in\n",
      "put into the care or protection of someone\n",
      "leave or give by will after one's death\n",
      "have left or have as a remainder\n",
      "be survived by after one's death\n",
      "transmit (knowledge or skills)\n",
      "leave behind unintentionally\n",
      "\n",
      "Гіпоніми для 'love':\n",
      "['agape']\n",
      "['agape', 'agape_love']\n",
      "['amorousness', 'enamoredness']\n",
      "['ardor', 'ardour']\n",
      "['benevolence']\n",
      "['devotion', 'devotedness']\n",
      "['filial_love']\n",
      "['heartstrings']\n",
      "['lovingness', 'caring']\n",
      "['loyalty']\n",
      "['puppy_love', 'calf_love', 'crush', 'infatuation']\n",
      "['worship', 'adoration']\n",
      "\n",
      "Гіпероніми для 'love':\n",
      "['emotion']\n",
      "\n",
      "Гіпоніми для 'leave':\n",
      "['compassionate_leave']\n",
      "['furlough']\n",
      "['pass']\n",
      "['sabbatical', 'sabbatical_leave']\n",
      "['shore_leave', 'liberty']\n",
      "['sick_leave']\n",
      "['terminal_leave']\n",
      "\n",
      "Гіпероніми для 'leave':\n",
      "['time_off']\n",
      "\n",
      "Спільний гіперонім для 'love' і 'leave': [Synset('abstraction.n.06')]\n",
      "\n",
      "Path Distance Similarity між 'love' і 'leave': 0.09090909090909091\n",
      "Wu-Palmer Similarity між 'love' і 'leave': 0.2857142857142857\n",
      "Leacock Chodorow Similarity між 'love' і 'leave': 1.2396908869280152\n",
      "\n",
      "Відстань Левенштейна між 'love' і 'leave': 2\n",
      "Відстань Дамерау-Левенштейна між 'love' і 'leave': 0.6\n",
      "Найближчі слова до 'give': ['give', 'ogive', 'giver', 'given', 'grivet']\n"
     ]
    },
    {
     "data": {
      "image/png": "[encoded data removed]",
      "text/plain": [
       "<Figure size 640x480 with 1 Axes>"
      ]
     },
     "metadata": {},
     "output_type": "display_data"
    },
    {
     "name": "stdout",
     "output_type": "stream",
     "text": [
      "\n",
      "Найближчі слова до 'give' у новоствореному файлі: ['give', 'give—', 'gives', 'giver', 'given']\n"
     ]
    }
   ],
   "source": [
    "# Імпорт необхідних бібліотек\n",
    "import nltk\n",
    "from nltk.corpus import wordnet as wn\n",
    "from Levenshtein import distance as levenshtein_distance\n",
    "from fastDamerauLevenshtein import damerauLevenshtein\n",
    "import difflib\n",
    "import seaborn as sns\n",
    "import matplotlib.pyplot as plt\n",
    "\n",
    "# Виведення інформації про автора та лабораторну роботу\n",
    "print(\"Кличлієв Кирило, група №2, Лабораторна робота №2\")\n",
    "\n",
    "# Визначення іменників для аналізу\n",
    "noun1 = \"love\"\n",
    "noun2 = \"leave\"\n",
    "\n",
    "# Виведення тлумачень для всіх семантичних значень іменників\n",
    "print(f\"Тлумачення для '{noun1}':\")\n",
    "for synset in wn.synsets(noun1):\n",
    "    print(synset.definition())\n",
    "\n",
    "print(f\"\\nТлумачення для '{noun2}':\")\n",
    "for synset in wn.synsets(noun2):\n",
    "    print(synset.definition())\n",
    "\n",
    "# Виведення гіпонімів та гіперонімів для іменників\n",
    "print(f\"\\nГіпоніми для '{noun1}':\")\n",
    "for hyponym in wn.synsets(noun1)[0].hyponyms():\n",
    "    print(hyponym.lemma_names())\n",
    "\n",
    "print(f\"\\nГіпероніми для '{noun1}':\")\n",
    "for hypernym in wn.synsets(noun1)[0].hypernyms():\n",
    "    print(hypernym.lemma_names())\n",
    "\n",
    "print(f\"\\nГіпоніми для '{noun2}':\")\n",
    "for hyponym in wn.synsets(noun2)[0].hyponyms():\n",
    "    print(hyponym.lemma_names())\n",
    "\n",
    "print(f\"\\nГіпероніми для '{noun2}':\")\n",
    "for hypernym in wn.synsets(noun2)[0].hypernyms():\n",
    "    print(hypernym.lemma_names())\n",
    "\n",
    "# Найнижчий у ієрархії понять спільний гіперонім\n",
    "lowest_common_hypernym = wn.synsets(noun1)[0].lowest_common_hypernyms(wn.synsets(noun2)[0])\n",
    "print(f\"\\nСпільний гіперонім для '{noun1}' і '{noun2}': {lowest_common_hypernym}\")\n",
    "\n",
    "# Семантична подібність іменників\n",
    "path_similarity = wn.synsets(noun1)[0].path_similarity(wn.synsets(noun2)[0])\n",
    "wup_similarity = wn.synsets(noun1)[0].wup_similarity(wn.synsets(noun2)[0])\n",
    "lch_similarity = wn.synsets(noun1)[0].lch_similarity(wn.synsets(noun2)[0])\n",
    "\n",
    "print(f\"\\nPath Distance Similarity між '{noun1}' і '{noun2}': {path_similarity}\")\n",
    "print(f\"Wu-Palmer Similarity між '{noun1}' і '{noun2}': {wup_similarity}\")\n",
    "print(f\"Leacock Chodorow Similarity між '{noun1}' і '{noun2}': {lch_similarity}\")\n",
    "\n",
    "# Відстань Левенштейна між іменниками\n",
    "lev_distance = levenshtein_distance(noun1, noun2)\n",
    "print(f\"\\nВідстань Левенштейна між '{noun1}' і '{noun2}': {lev_distance}\")\n",
    "\n",
    "# Відстань Дамерау-Левенштейна між іменниками\n",
    "damerau_lev_distance = damerauLevenshtein(noun1, noun2)\n",
    "print(f\"Відстань Дамерау-Левенштейна між '{noun1}' і '{noun2}': {damerau_lev_distance}\")\n",
    "\n",
    "# Введення довільного слова користувачем та пошук найближчих слів\n",
    "user_input = input(\"\\nВведіть довільне слово англійською мовою: \")\n",
    "closest_words = difflib.get_close_matches(user_input, wn.words(), n=5)\n",
    "print(f\"Найближчі слова до '{user_input}': {closest_words}\")\n",
    "\n",
    "# Обробка текстового файлу (Jane_Eyre.txt)\n",
    "with open('Jane_Eyre.txt', 'r') as file:\n",
    "    text = file.read()\n",
    "\n",
    "# Токенізація слів\n",
    "words = nltk.word_tokenize(text)\n",
    "freq_dist = nltk.FreqDist(words)\n",
    "\n",
    "# Візуалізація частотності використання слів\n",
    "most_common_words = freq_dist.most_common(20)\n",
    "sns.barplot(x=[word[0] for word in most_common_words], y=[word[1] for word in most_common_words])\n",
    "plt.xticks(rotation=45)\n",
    "plt.show()\n",
    "\n",
    "# Створення нового текстового файлу та збереження відсортованих слів\n",
    "sorted_words = sorted(freq_dist.items(), key=lambda item: item[1], reverse=True)\n",
    "with open('new_file.txt', 'w') as new_file:\n",
    "    for word, frequency in sorted_words:\n",
    "        new_file.write(f\"{word}\\n\")\n",
    "\n",
    "# Пошук найближчих слів до введеного користувачем слова у новоствореному файлі\n",
    "closest_new_words = difflib.get_close_matches(user_input, [word for word, freq in sorted_words], n=5)\n",
    "print(f\"\\nНайближчі слова до '{user_input}' у новоствореному файлі: {closest_new_words}\")\n"
   ]
  },
  {
   "cell_type": "code",
   "execution_count": null,
   "metadata": {},
   "outputs": [],
   "source": []
  }
 ],
 "metadata": {
  "kernelspec": {
   "display_name": "Python 3",
   "language": "python",
   "name": "python3"
  },
  "language_info": {
   "codemirror_mode": {
    "name": "ipython",
    "version": 3
   },
   "file_extension": ".py",
   "mimetype": "text/x-python",
   "name": "python",
   "nbconvert_exporter": "python",
   "pygments_lexer": "ipython3",
   "version": "3.10.12"
  }
 },
 "nbformat": 4,
 "nbformat_minor": 2
}

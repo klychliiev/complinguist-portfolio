{
 "cells": [
  {
   "cell_type": "code",
   "execution_count": 3,
   "metadata": {},
   "outputs": [
    {
     "name": "stdout",
     "output_type": "stream",
     "text": [
      "Defaulting to user installation because normal site-packages is not writeable\n",
      "Requirement already satisfied: nltk in /home/klychliiev/.local/lib/python3.10/site-packages (3.8.1)\n",
      "Collecting scikit-learn\n",
      "  Using cached scikit_learn-1.5.0-cp310-cp310-manylinux_2_17_x86_64.manylinux2014_x86_64.whl (13.3 MB)\n",
      "Requirement already satisfied: joblib in /home/klychliiev/.local/lib/python3.10/site-packages (from nltk) (1.4.2)\n",
      "Requirement already satisfied: regex>=2021.8.3 in /home/klychliiev/.local/lib/python3.10/site-packages (from nltk) (2024.5.15)\n",
      "Requirement already satisfied: tqdm in /home/klychliiev/.local/lib/python3.10/site-packages (from nltk) (4.66.4)\n",
      "Requirement already satisfied: click in /usr/lib/python3/dist-packages (from nltk) (8.0.3)\n",
      "Collecting numpy>=1.19.5\n",
      "  Using cached numpy-1.26.4-cp310-cp310-manylinux_2_17_x86_64.manylinux2014_x86_64.whl (18.2 MB)\n",
      "Collecting scipy>=1.6.0\n",
      "  Using cached scipy-1.13.1-cp310-cp310-manylinux_2_17_x86_64.manylinux2014_x86_64.whl (38.6 MB)\n",
      "Collecting threadpoolctl>=3.1.0\n",
      "  Using cached threadpoolctl-3.5.0-py3-none-any.whl (18 kB)\n",
      "\u001b[33mWARNING: Error parsing requirements for pybind11: [Errno 2] No such file or directory: '/home/klychliiev/.local/lib/python3.10/site-packages/pybind11-2.12.0.dist-info/METADATA'\u001b[0m\u001b[33m\n",
      "\u001b[0mInstalling collected packages: threadpoolctl, numpy, scipy, scikit-learn\n",
      "Successfully installed numpy-1.26.4 scikit-learn-1.5.0 scipy-1.13.1 threadpoolctl-3.5.0\n"
     ]
    }
   ],
   "source": [
    "!pip install nltk scikit-learn"
   ]
  },
  {
   "cell_type": "code",
   "execution_count": 4,
   "metadata": {},
   "outputs": [
    {
     "name": "stdout",
     "output_type": "stream",
     "text": [
      "Кличлієв К. С., Група №2, Лабораторна робота №3\n"
     ]
    },
    {
     "name": "stderr",
     "output_type": "stream",
     "text": [
      "[nltk_data] Downloading package movie_reviews to\n",
      "[nltk_data]     /home/klychliiev/nltk_data...\n",
      "[nltk_data]   Unzipping corpora/movie_reviews.zip.\n"
     ]
    },
    {
     "name": "stdout",
     "output_type": "stream",
     "text": [
      "[(',', 77717), ('the', 76529), ('.', 65876), ('a', 38106), ('and', 35576), ('of', 34123), ('to', 31937), (\"'\", 30585), ('is', 25195), ('in', 21822), ('s', 18513), ('\"', 17612), ('it', 16107), ('that', 15924), ('-', 15595), (')', 11781), ('(', 11664), ('as', 11378), ('with', 10792), ('for', 9961)]\n",
      "The word 'radical' appears 15 times.\n",
      "'radical' in positive reviews: 11\n",
      "'radical' in negative reviews: 3\n",
      "{',': True, 'the': True, '.': True, 'a': True, 'and': True, 'of': True, 'to': True, \"'\": True, 'is': True, 'in': True, 's': True, '\"': True, 'it': True, 'that': True, '-': True, ')': True, '(': True, 'as': True, 'with': True, 'for': True, 'his': True, 'this': True, 'film': True, 'i': True, 'he': True, 'but': True, 'on': True, 't': True, 'by': True, 'be': True, 'one': True, 'who': True, 'you': True, 'from': True, 'was': True, 'they': True, 'has': True, 'her': True, 'all': True, '?': True, 'there': True, 'like': True, 'so': True, 'out': True, 'about': True, 'up': True, 'what': True, 'when': True, 'which': True, ':': True, 'some': True, 'can': True, 'if': True, 'him': True, 'into': True, 'even': True, 'time': True, 'also': True, 'get': True, 'other': True, 'do': True, ';': True, 'first': True, '--': True, 'after': True, 'see': True, 'make': True, 'life': True, 'off': True, 'had': True, 'while': True, 'how': True, 'over': True, 'scene': True, 'never': True, 'these': True, 'new': True, 'director': True, 'through': True, 'another': True, 'something': True, '*': True, 'still': True, 'work': True, 'makes': True, 'now': True, 'between': True, 'seen': True, 'take': True, 'around': True, 'both': True, 'performance': True, 'why': True, 'your': True, 'last': True, 've': True, 'own': True, 'thing': True, 'right': True, 'plays': True, 'show': True, 'again': True, 'three': True, 'himself': True, 'once': True, 'd': True, 'hollywood': True, 'instead': True, 'want': True, 'job': True, 'having': True, 'actor': True, 'along': True, 'looking': True, 'mind': True, 'reason': True, 'mother': True, 'shows': True, 'true': True, 'itself': True, 'turns': True, 'stars': True, 'friends': True, 'tv': True, 'top': True, 'name': True, 'called': True, 'based': True, 'comic': True, 'david': True, 'playing': True, 'doing': True, 'days': True, 'writer': True, 'dark': True, 'drama': True, '&': True, 'simple': True, 'themselves': True, 'eyes': True, 'child': True, 'york': True, 'note': True, 'appears': True, 'single': True, 'living': True, 'among': True, 'taken': True, 'talk': True, 'talent': True, 'television': True, 'words': True, '$': True, 'william': True, 'whom': True, 'writing': True, 'ben': True, 'popular': True, 'ways': True, 'minute': True, 'successful': True, 'drug': True, 'seriously': True, 'agent': True, 'unlike': True, 'pay': True, 'fails': True, 'escape': True, 'haven': True, 'l': True, '5': True, 'credit': True, 'mary': True, 'british': True, 'spent': True, 'lots': True, 'casting': True, 'choice': True, 'jerry': True, 'occasionally': True, 'wasted': True, 'pictures': True, '000': True, 'concept': True, 'danny': True, 'train': True, 'directors': True, 'elizabeth': True, 'week': True, 'rarely': True, 'phone': True, 'asked': True, 'lover': True, 'marriage': True, 'respect': True, 'industry': True, 'naked': True, 'sympathetic': True, 'drugs': True, 'yeah': True, '6': True, 'heavily': True, 'morning': True, 'study': True, 'moved': True, 'greater': True, 'stiller': True, 'author': True, 'mid': True, 'experiences': True, 'size': True, 'midnight': True, 'coach': True, 'focuses': True, 'projects': True, 'emma': True, 'adapted': True, 'reference': True, 'random': True, 'strangely': True, 'received': True, 'shoots': True, 'controlled': True, 'currently': True, 'mcgregor': True, 'thrill': True, 'wreck': True, 'stahl': True, 'em': True, 'profanity': True, 'philosophy': True, 'garofalo': True, 'convenient': True, 'proved': True}\n",
      "Naive Bayes Accuracy: 0.81\n",
      "Most Informative Features\n",
      "               ludicrous = True              neg : pos    =     25.1 : 1.0\n",
      "             outstanding = True              pos : neg    =     13.8 : 1.0\n",
      "                  finest = True              pos : neg    =      9.4 : 1.0\n",
      "               stupidity = True              neg : pos    =      9.0 : 1.0\n",
      "                  sloppy = True              neg : pos    =      7.6 : 1.0\n",
      "                  seagal = True              neg : pos    =      7.4 : 1.0\n",
      "              schumacher = True              neg : pos    =      7.0 : 1.0\n",
      "                  turkey = True              neg : pos    =      7.0 : 1.0\n",
      "                 idiotic = True              neg : pos    =      7.0 : 1.0\n",
      "               marvelous = True              pos : neg    =      7.0 : 1.0\n",
      "                captures = True              pos : neg    =      6.5 : 1.0\n",
      "             magnificent = True              pos : neg    =      6.5 : 1.0\n",
      "             wonderfully = True              pos : neg    =      6.4 : 1.0\n",
      "                   anger = True              pos : neg    =      6.4 : 1.0\n",
      "            breathtaking = True              pos : neg    =      6.4 : 1.0\n",
      "                   jolie = True              neg : pos    =      5.8 : 1.0\n",
      "                  poorly = True              neg : pos    =      5.7 : 1.0\n",
      "                   damon = True              pos : neg    =      5.6 : 1.0\n",
      "                lebowski = True              pos : neg    =      5.6 : 1.0\n",
      "                    lame = True              neg : pos    =      5.5 : 1.0\n",
      "Multinomial NB Accuracy: 0.725\n"
     ]
    }
   ],
   "source": [
    "import nltk\n",
    "from nltk.corpus import movie_reviews\n",
    "import random\n",
    "from sklearn.naive_bayes import MultinomialNB\n",
    "from sklearn.feature_extraction.text import CountVectorizer\n",
    "\n",
    "\n",
    "# Create and shuffle the reviews list\n",
    "documents = [(list(movie_reviews.words(fileid)), category)\n",
    "             for category in movie_reviews.categories()\n",
    "             for fileid in movie_reviews.fileids(category)]\n",
    "random.shuffle(documents)\n",
    "\n",
    "# Create a list of all words and sort by frequency\n",
    "all_words = nltk.FreqDist(w.lower() for w in movie_reviews.words())\n",
    "print(f\"Найчастотніші слова з відповідними частотами: {all_words.most_common(20)}\")\n",
    "print()\n",
    "\n",
    "# Find the frequency of the word 'radical'\n",
    "word_frequency = all_words['radical']\n",
    "print(f\"Слово 'radical' зустрічається {word_frequency} рази/ів.\")\n",
    "print()\n",
    "\n",
    "# Find the frequency of 'radical' in positive and negative reviews\n",
    "positive_reviews = movie_reviews.fileids('pos')\n",
    "negative_reviews = movie_reviews.fileids('neg')\n",
    "positive_count = sum(1 for fileid in positive_reviews if 'radical' in movie_reviews.words(fileid))\n",
    "negative_count = sum(1 for fileid in negative_reviews if 'radical' in movie_reviews.words(fileid))\n",
    "print(f\"'radical' серед позитивних відгуків: {positive_count}\")\n",
    "print(f\"'radical' серед негативних відгуків: {negative_count}\")\n",
    "\n",
    "# Create a function to check word presence in a file\n",
    "def document_features(document, word_features):\n",
    "    document_words = set(document)\n",
    "    features = {}\n",
    "    for word in word_features:\n",
    "        features[word] = (word in document_words)\n",
    "    return features\n",
    "\n",
    "word_features = list(all_words)[:4000]\n",
    "features = document_features(movie_reviews.words('pos/cv019_14482.txt'), word_features)\n",
    "print({word: features[word] for word in word_features if features[word]})\n",
    "print()\n",
    "\n",
    "# Implement Naive Bayes Classifier\n",
    "featuresets = [(document_features(d, word_features), c) for (d, c) in documents]\n",
    "train_set, test_set = featuresets[100:], featuresets[:100]\n",
    "classifier = nltk.NaiveBayesClassifier.train(train_set)\n",
    "print(f\"Точність алгоритма Naive Bayes: {nltk.classify.accuracy(classifier, test_set)}\")\n",
    "classifier.show_most_informative_features(20)\n",
    "print()\n",
    "\n",
    "# Implement Multinomial NB Classifier\n",
    "vectorizer = CountVectorizer()\n",
    "train_data = [movie_reviews.raw(fileid) for fileid in movie_reviews.fileids()[:1800]]\n",
    "test_data = [movie_reviews.raw(fileid) for fileid in movie_reviews.fileids()[1800:]]\n",
    "train_labels = [movie_reviews.categories(fileid)[0] for fileid in movie_reviews.fileids()[:1800]]\n",
    "test_labels = [movie_reviews.categories(fileid)[0] for fileid in movie_reviews.fileids()[1800:]]\n",
    "\n",
    "train_matrix = vectorizer.fit_transform(train_data)\n",
    "test_matrix = vectorizer.transform(test_data)\n",
    "\n",
    "multi_nb_classifier = MultinomialNB()\n",
    "multi_nb_classifier.fit(train_matrix, train_labels)\n",
    "accuracy = multi_nb_classifier.score(test_matrix, test_labels)\n",
    "print(f\"Точність Multinomial NB: {accuracy}\")\n"
   ]
  },
  {
   "cell_type": "code",
   "execution_count": null,
   "metadata": {},
   "outputs": [],
   "source": []
  }
 ],
 "metadata": {
  "kernelspec": {
   "display_name": "Python 3",
   "language": "python",
   "name": "python3"
  },
  "language_info": {
   "codemirror_mode": {
    "name": "ipython",
    "version": 3
   },
   "file_extension": ".py",
   "mimetype": "text/x-python",
   "name": "python",
   "nbconvert_exporter": "python",
   "pygments_lexer": "ipython3",
   "version": "3.10.12"
  }
 },
 "nbformat": 4,
 "nbformat_minor": 2
}

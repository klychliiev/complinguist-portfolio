{
 "cells": [
  {
   "cell_type": "code",
   "execution_count": 2,
   "metadata": {},
   "outputs": [
    {
     "name": "stderr",
     "output_type": "stream",
     "text": [
      "[nltk_data] Downloading package punkt to /home/klychliiev/nltk_data...\n",
      "[nltk_data]   Package punkt is already up-to-date!\n"
     ]
    },
    {
     "name": "stdout",
     "output_type": "stream",
     "text": [
      "Generated Text:  styled , such people who have a few good ! ” And while the road before you\n"
     ]
    }
   ],
   "source": [
    "# Import necessary libraries\n",
    "from collections import defaultdict\n",
    "import nltk\n",
    "import random\n",
    "\n",
    "# Download necessary NLTK data\n",
    "nltk.download('punkt')\n",
    "\n",
    "# Function to determine word dependencies using Markov chains\n",
    "def markov_chain(text):\n",
    "    words = nltk.word_tokenize(text)\n",
    "    markov_dict = defaultdict(list)\n",
    "    \n",
    "    for current_word, next_word in zip(words[:-1], words[1:]):\n",
    "        markov_dict[current_word].append(next_word)\n",
    "    \n",
    "    return markov_dict\n",
    "\n",
    "# Function to generate text using the Markov chain dictionary\n",
    "def generate_text(markov_dict, num_words):\n",
    "    current_word = random.choice(list(markov_dict.keys()))\n",
    "    generated_text = [current_word]\n",
    "    \n",
    "    for _ in range(num_words - 1):\n",
    "        next_words = markov_dict.get(current_word, [])\n",
    "        if not next_words:\n",
    "            break\n",
    "        next_word = random.choice(next_words)\n",
    "        generated_text.append(next_word)\n",
    "        current_word = next_word\n",
    "    \n",
    "    return ' '.join(generated_text)\n",
    "\n",
    "# Main execution\n",
    "if __name__ == \"__main__\":\n",
    "    # Example text to create Markov chain dictionary\n",
    "\n",
    "    with open(\"Jane_Eyre.txt\", 'r') as f:\n",
    "        example_text = f.read()\n",
    "\n",
    "    # example_text = \"\"\"Insert the content of bronte-eyre.txt here for testing\"\"\"\n",
    "    \n",
    "    # Create Markov chain dictionary\n",
    "    markov_dict = markov_chain(example_text)\n",
    "    \n",
    "    # Generate text using the Markov chain dictionary\n",
    "    generated_text = generate_text(markov_dict, 17)\n",
    "    print(\"Generated Text: \", generated_text)\n"
   ]
  },
  {
   "cell_type": "code",
   "execution_count": null,
   "metadata": {},
   "outputs": [],
   "source": []
  }
 ],
 "metadata": {
  "kernelspec": {
   "display_name": "Python 3",
   "language": "python",
   "name": "python3"
  },
  "language_info": {
   "codemirror_mode": {
    "name": "ipython",
    "version": 3
   },
   "file_extension": ".py",
   "mimetype": "text/x-python",
   "name": "python",
   "nbconvert_exporter": "python",
   "pygments_lexer": "ipython3",
   "version": "3.10.12"
  }
 },
 "nbformat": 4,
 "nbformat_minor": 2
}

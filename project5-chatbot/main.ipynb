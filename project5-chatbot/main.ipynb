{
 "cells": [
  {
   "cell_type": "code",
   "execution_count": 2,
   "metadata": {},
   "outputs": [
    {
     "name": "stdout",
     "output_type": "stream",
     "text": [
      "Defaulting to user installation because normal site-packages is not writeable\n",
      "Requirement already satisfied: chatterbot==1.0.0 in /home/klychliiev/.local/lib/python3.10/site-packages (1.0.0)\n",
      "Requirement already satisfied: nltk<4.0,>=3.2 in /home/klychliiev/.local/lib/python3.10/site-packages (from chatterbot==1.0.0) (3.8.1)\n",
      "Requirement already satisfied: sqlalchemy<1.3,>=1.2 in /home/klychliiev/.local/lib/python3.10/site-packages (from chatterbot==1.0.0) (1.2.19)\n",
      "Requirement already satisfied: chatterbot-corpus<1.3,>=1.2 in /home/klychliiev/.local/lib/python3.10/site-packages (from chatterbot==1.0.0) (1.2.0)\n",
      "Requirement already satisfied: mathparse<0.2,>=0.1 in /home/klychliiev/.local/lib/python3.10/site-packages (from chatterbot==1.0.0) (0.1.2)\n",
      "Requirement already satisfied: pint>=0.8.1 in /home/klychliiev/.local/lib/python3.10/site-packages (from chatterbot==1.0.0) (0.24)\n",
      "Requirement already satisfied: python-dateutil<2.8,>=2.7 in /home/klychliiev/.local/lib/python3.10/site-packages (from chatterbot==1.0.0) (2.7.5)\n",
      "Requirement already satisfied: pymongo<4.0,>=3.3 in /home/klychliiev/.local/lib/python3.10/site-packages (from chatterbot==1.0.0) (3.13.0)\n",
      "Requirement already satisfied: PyYAML<4.0,>=3.12 in /home/klychliiev/.local/lib/python3.10/site-packages (from chatterbot-corpus<1.3,>=1.2->chatterbot==1.0.0) (3.13)\n",
      "Requirement already satisfied: click in /usr/lib/python3/dist-packages (from nltk<4.0,>=3.2->chatterbot==1.0.0) (8.0.3)\n",
      "Requirement already satisfied: joblib in /home/klychliiev/.local/lib/python3.10/site-packages (from nltk<4.0,>=3.2->chatterbot==1.0.0) (1.4.2)\n",
      "Requirement already satisfied: regex>=2021.8.3 in /home/klychliiev/.local/lib/python3.10/site-packages (from nltk<4.0,>=3.2->chatterbot==1.0.0) (2024.5.15)\n",
      "Requirement already satisfied: tqdm in /home/klychliiev/.local/lib/python3.10/site-packages (from nltk<4.0,>=3.2->chatterbot==1.0.0) (4.66.4)\n",
      "Requirement already satisfied: appdirs>=1.4.4 in /home/klychliiev/.local/lib/python3.10/site-packages (from pint>=0.8.1->chatterbot==1.0.0) (1.4.4)\n",
      "Requirement already satisfied: flexcache>=0.3 in /home/klychliiev/.local/lib/python3.10/site-packages (from pint>=0.8.1->chatterbot==1.0.0) (0.3)\n",
      "Requirement already satisfied: typing-extensions in /home/klychliiev/.local/lib/python3.10/site-packages (from pint>=0.8.1->chatterbot==1.0.0) (4.12.1)\n",
      "Requirement already satisfied: flexparser>=0.3 in /home/klychliiev/.local/lib/python3.10/site-packages (from pint>=0.8.1->chatterbot==1.0.0) (0.3.1)\n",
      "Requirement already satisfied: six>=1.5 in /usr/lib/python3/dist-packages (from python-dateutil<2.8,>=2.7->chatterbot==1.0.0) (1.16.0)\n",
      "\u001b[33mWARNING: Error parsing requirements for pybind11: [Errno 2] No such file or directory: '/home/klychliiev/.local/lib/python3.10/site-packages/pybind11-2.12.0.dist-info/METADATA'\u001b[0m\u001b[33m\n",
      "\u001b[0m"
     ]
    }
   ],
   "source": [
    "!pip install chatterbot==1.0.0"
   ]
  },
  {
   "cell_type": "code",
   "execution_count": 1,
   "metadata": {},
   "outputs": [],
   "source": [
    "import logging\n",
    "import collections\n",
    "from chatterbot import ChatBot\n",
    "from chatterbot.trainers import ListTrainer"
   ]
  },
  {
   "cell_type": "markdown",
   "metadata": {},
   "source": [
    "## 1. Чатбот для шведської мови (базова розмова + математичні питання)"
   ]
  },
  {
   "cell_type": "code",
   "execution_count": 2,
   "metadata": {},
   "outputs": [
    {
     "name": "stdout",
     "output_type": "stream",
     "text": [
      "List Trainer: [####################] 100%"
     ]
    },
    {
     "name": "stdout",
     "output_type": "stream",
     "text": [
      "\n",
      "List Trainer: [####################] 100%\n",
      "List Trainer: [####################] 100%\n",
      "List Trainer: [####################] 100%\n",
      "List Trainer: [####################] 100%\n",
      "List Trainer: [####################] 100%\n"
     ]
    },
    {
     "name": "stderr",
     "output_type": "stream",
     "text": [
      "[nltk_data] Downloading package averaged_perceptron_tagger to\n",
      "[nltk_data]     /home/klychliiev/nltk_data...\n",
      "[nltk_data]   Package averaged_perceptron_tagger is already up-to-\n",
      "[nltk_data]       date!\n",
      "[nltk_data] Downloading package punkt to /home/klychliiev/nltk_data...\n",
      "[nltk_data]   Package punkt is already up-to-date!\n",
      "[nltk_data] Downloading package stopwords to\n",
      "[nltk_data]     /home/klychliiev/nltk_data...\n",
      "[nltk_data]   Package stopwords is already up-to-date!\n"
     ]
    }
   ],
   "source": [
    "# Function to train a chatbot\n",
    "def train_chatbot():\n",
    "    logger = logging.getLogger().setLevel(logging.CRITICAL)\n",
    "    collections.Hashable = collections.abc.Hashable\n",
    "    \n",
    "    my_bot = ChatBot(\n",
    "        name=\"SwedBot\",\n",
    "        read_only=True,\n",
    "        logic_adapters=[\"chatterbot.logic.MathematicalEvaluation\", \"chatterbot.logic.BestMatch\"]\n",
    "    )\n",
    "    \n",
    "    small_talk = [\n",
    "        \"Hej!\", \"Hej\", \"Hallå\", \"Hur mår du?\", \"Hur står det till?\", \"Jag mår bra\", \n",
    "        \"Bra, och du?\", \"Alltid bra\", \"Jag är okej\", \"Skönt att höra det\", \"Jag mår bra\", \n",
    "        \"Skönt att höra det\", \"Jag mår fantastiskt\", \"Utmärkt, skönt att höra det\", \"Inte så bra\", \n",
    "        \"Tråkigt att höra det\", \"Varifrån kommer du?\", \"Jag kommer från Sverige.\", \"Vad heter du?\", \n",
    "        \"Jag är SwedBot. Fråga mig en matematikfråga, snälla.\"\n",
    "    ]\n",
    "    \n",
    "    math_talk1 = ['Sinus av dubbel vinkel?', ' sin(2x)=2sinxcosx']\n",
    "    math_talk2 = ['Formel för linjär regression', 'Y=a + bX + ∈']\n",
    "    math_talk3 = ['Cosinuslikhet', 'Cos(x, y) = x. y / ||x|| * ||y||']\n",
    "    math_talk4 = ['Skriv en formel för en cirkelradie', 'D/2']\n",
    "    math_talk5 = ['Grundläggande sannolikhetsformel', 'P(A) = n(A)/n(S)']\n",
    "    \n",
    "    list_trainer = ListTrainer(my_bot)\n",
    "    for item in (small_talk, math_talk1, math_talk2, math_talk3, math_talk4, math_talk5):\n",
    "        list_trainer.train(item)\n",
    "\n",
    "    return my_bot\n",
    "\n",
    "bot = train_chatbot()\n"
   ]
  },
  {
   "cell_type": "code",
   "execution_count": 3,
   "metadata": {},
   "outputs": [
    {
     "name": "stdout",
     "output_type": "stream",
     "text": [
      "\n",
      "Діалог з ботом\n",
      "User: Hej\n",
      "Bot: Hej\n",
      "User: Hur mår du?\n",
      "Bot: Hur står det till?\n",
      "User: Jag mår bra.\n",
      "Bot: Bra, och du?\n",
      "User: Jag är okej\n",
      "Bot: Skönt att höra det\n",
      "User: Varifrån kommer du?\n",
      "Bot: Jag kommer från Sverige.\n",
      "User: Vad heter du?\n",
      "Bot: Jag är SwedBot. Fråga mig en matematikfråga, snälla.\n",
      "User: \n",
      "Bot: Hej!\n",
      "User: Sinus av dubbel vinkel?\n",
      "Bot: sin(2x)=2sinxcosx\n",
      "User: Formel för linjär regression\n",
      "Bot: Y=a + bX + ∈\n",
      "User: \n",
      "Bot: Hej!\n"
     ]
    }
   ],
   "source": [
    "print('\\nДіалог з ботом')\n",
    "for i in range(10):\n",
    "    user_input = input('User: ')\n",
    "    print(f'User: {user_input}')\n",
    "    print(f'Bot: {bot.get_response(user_input)}')\n"
   ]
  },
  {
   "cell_type": "markdown",
   "metadata": {},
   "source": [
    "## 2. Чатбот, тренований на корпусі шведської мови"
   ]
  },
  {
   "cell_type": "code",
   "execution_count": 2,
   "metadata": {},
   "outputs": [
    {
     "name": "stdout",
     "output_type": "stream",
     "text": [
      "Training ai.yml: [###                 ] 17%"
     ]
    },
    {
     "name": "stderr",
     "output_type": "stream",
     "text": [
      "[nltk_data] Downloading package averaged_perceptron_tagger to\n",
      "[nltk_data]     /home/klychliiev/nltk_data...\n",
      "[nltk_data]   Package averaged_perceptron_tagger is already up-to-\n",
      "[nltk_data]       date!\n",
      "[nltk_data] Downloading package punkt to /home/klychliiev/nltk_data...\n",
      "[nltk_data]   Package punkt is already up-to-date!\n",
      "[nltk_data] Downloading package stopwords to\n",
      "[nltk_data]     /home/klychliiev/nltk_data...\n",
      "[nltk_data]   Package stopwords is already up-to-date!\n"
     ]
    },
    {
     "name": "stdout",
     "output_type": "stream",
     "text": [
      "Training ai.yml: [####################] 100%\n",
      "Training conversations.yml: [####################] 100%\n",
      "Training food.yml: [####################] 100%\n",
      "Training greetings.yml: [####################] 100%\n",
      "Training sports.yml: [####################] 100%\n"
     ]
    }
   ],
   "source": [
    "from chatterbot.trainers import ChatterBotCorpusTrainer\n",
    "import logging  \n",
    "\n",
    "logger = logging.getLogger().setLevel(logging.CRITICAL)\n",
    "collections.Hashable = collections.abc.Hashable\n",
    "\n",
    "my_bot = ChatBot('SwedBot')\n",
    "\n",
    "corpus_trainer = ChatterBotCorpusTrainer(my_bot)\n",
    "corpus_trainer.train('chatterbot.corpus.swedish')"
   ]
  },
  {
   "cell_type": "code",
   "execution_count": 3,
   "metadata": {},
   "outputs": [
    {
     "name": "stdout",
     "output_type": "stream",
     "text": [
      "\n",
      "Діалог з ботом\n",
      "User: Hej\n",
      "Bot: Hej\n",
      "User: Hur mår du?\n",
      "Bot: Hur står det till?\n",
      "User: Jag mår bra, tack.\n",
      "Bot: Hur står det till?\n",
      "User: Vad är Köpenhamn?\n",
      "Bot: Skönt att höra det\n",
      "User: vad är artificiell intelligens\n",
      "Bot: python\n",
      "User: vad är python?\n",
      "Bot: python\n",
      "User: förklara snälla\n",
      "Bot: Skriv en formel för en cirkelradie\n",
      "User: Tack, hej då.\n",
      "Bot: En bra start är www.svenskkonstakning.se\n",
      "User: \n"
     ]
    }
   ],
   "source": [
    "print('\\nДіалог з ботом')\n",
    "for i in range(10):\n",
    "    user_input = input('User: ')\n",
    "    print(f'User: {user_input}')\n",
    "    print(f'Bot: {my_bot.get_response(user_input)}')"
   ]
  },
  {
   "cell_type": "code",
   "execution_count": null,
   "metadata": {},
   "outputs": [],
   "source": []
  }
 ],
 "metadata": {
  "kernelspec": {
   "display_name": "Python 3",
   "language": "python",
   "name": "python3"
  },
  "language_info": {
   "codemirror_mode": {
    "name": "ipython",
    "version": 3
   },
   "file_extension": ".py",
   "mimetype": "text/x-python",
   "name": "python",
   "nbconvert_exporter": "python",
   "pygments_lexer": "ipython3",
   "version": "3.10.12"
  }
 },
 "nbformat": 4,
 "nbformat_minor": 2
}

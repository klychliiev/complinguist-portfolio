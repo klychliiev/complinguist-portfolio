{
  "cells": [
    {
      "cell_type": "code",
      "execution_count": null,
      "metadata": {
        "id": "8dAIhqc1uuJN"
      },
      "outputs": [],
      "source": [
        "import tokenize_uk\n",
        "import nltk"
      ]
    },
    {
      "cell_type": "code",
      "execution_count": null,
      "metadata": {
        "id": "Udl_-WCAuuJR",
        "outputId": "7b4a986e-f26b-4976-a342-ebb4674e315c"
      },
      "outputs": [
        {
          "name": "stdout",
          "output_type": "stream",
          "text": [
            "[['україна', '-', 'незалежна', 'держава', '.'], ['люблю', 'свою', 'родину', 'і', 'свій', 'народ', '.'], ['українська', 'мова', 'мелодійна', 'і', 'красива', '.'], ['київ', '-', 'столиця', 'україни', '.'], ['карпати', 'славляться', 'своєю', 'красою', '.'], ['сонце', 'сяє', 'яскраво', 'на', 'небі', '.'], ['україна', 'має', 'багатий', 'культурний', 'спадок', '.'], ['чорне', 'море', 'розташоване', 'на', 'півдні', 'україни', '.'], ['тарас', 'шевченко', '-', 'великий', 'поет', '.'], ['україна', 'відома', 'своєю', 'гостинністю', '.'], ['життя', '-', 'це', 'подорож', 'і', 'навчання', '.'], ['колосся', 'хліба', 'символізують', 'багатство', 'землі', '.'], ['українська', 'кухня', 'різноманітна', 'і', 'смачна', '.'], ['вишиванка', '-', 'національний', 'український', 'одяг', '.'], ['дніпро', '-', 'найбільша', 'ріка', 'в', 'україні', '.'], ['література', 'важлива', 'для', 'розвитку', 'культури', '.'], [\"слав'янська\", 'єдність', \"об'єднує\", 'нас', '.'], ['українська', 'музика', 'вражає', 'своєю', 'глибиною', '.'], ['зима', 'принесла', 'сніг', 'і', 'мороз', '.'], ['діти', '-', 'наше', 'найбільше', 'багатство', '.']]\n"
          ]
        }
      ],
      "source": [
        "with open('corpus-ukr.txt', 'r') as ukr_file:\n",
        "    ukr_sents = ukr_file.read().split('\\n')\n",
        "    ukr_tokenized = [tokenize_uk.tokenize_words(sent) for sent in ukr_sents]\n",
        "    print(ukr_tokenized)"
      ]
    },
    {
      "cell_type": "code",
      "execution_count": null,
      "metadata": {
        "id": "fKAYB0IsuuJT",
        "outputId": "5fb343e0-dcf0-4b6d-e80a-bfa018846512"
      },
      "outputs": [
        {
          "name": "stdout",
          "output_type": "stream",
          "text": [
            "[['ukraina', '-', 'niepodległe', 'państwo', '.'], ['kocham', 'swoją', 'rodzinę', 'i', 'swój', 'naród', '.'], ['język', 'ukraiński', 'jest', 'melodyjny', 'i', 'piękny', '.'], ['kijów', '-', 'stolica', 'ukrainy', '.'], ['karpaty', 'słyną', 'ze', 'swojego', 'piękna', '.'], ['słońce', 'świeci', 'jasno', 'na', 'niebie', '.'], ['ukraina', 'ma', 'bogate', 'dziedzictwo', 'kulturowe', '.'], ['morze', 'czarne', 'znajduje', 'się', 'na', 'południu', 'ukrainy', '.'], ['taras', 'szewczenko', '-', 'wielki', 'poeta', '.'], ['ukraina', 'jest', 'znana', 'z', 'gościnności', '.'], ['życie', 'to', 'podróż', 'i', 'nauka', '.'], ['kłosy', 'chleba', 'symbolizują', 'bogactwo', 'ziemi', '.'], ['kuchnia', 'ukraińska', 'jest', 'różnorodna', 'i', 'smaczna', '.'], ['haftowana', 'koszula', '-', 'narodowy', 'strój', 'ukraiński', '.'], ['dniepr', 'to', 'największa', 'rzeka', 'na', 'ukrainie', '.'], ['literatura', 'ma', 'znaczenie', 'dla', 'rozwoju', 'kultury', '.'], ['słowiańska', 'jedność', 'nas', 'łączy', '.'], ['muzyka', 'ukraińska', 'zachwyca', 'swoją', 'głębią', '.'], ['zima', 'przyniosła', 'śnieg', 'i', 'mróz', '.'], ['dzieci', 'to', 'nasze', 'największe', 'bogactwo', '.']]\n"
          ]
        }
      ],
      "source": [
        "with open('corpus-pl.txt', 'r') as cz_file:\n",
        "    pl_sents = cz_file.read().split('\\n')\n",
        "    pl_tokenized = [nltk.word_tokenize(sent, language='polish') for sent in pl_sents]\n",
        "    print(pl_tokenized)"
      ]
    },
    {
      "cell_type": "code",
      "execution_count": null,
      "metadata": {
        "id": "OExs8sufuuJV",
        "outputId": "7501bbdb-fd09-4e00-ab1b-f8d34b64bb4d"
      },
      "outputs": [
        {
          "data": {
            "text/plain": [
              "['україна - незалежна держава.',\n",
              " 'люблю свою родину і свій народ.',\n",
              " 'українська мова мелодійна і красива.',\n",
              " 'київ - столиця україни.',\n",
              " 'карпати славляться своєю красою.',\n",
              " 'сонце сяє яскраво на небі.',\n",
              " 'україна має багатий культурний спадок.',\n",
              " 'чорне море розташоване на півдні україни.',\n",
              " 'тарас шевченко - великий поет.',\n",
              " 'україна відома своєю гостинністю.',\n",
              " 'життя - це подорож і навчання.',\n",
              " 'колосся хліба символізують багатство землі.',\n",
              " 'українська кухня різноманітна і смачна.',\n",
              " 'вишиванка - національний український одяг.',\n",
              " 'дніпро - найбільша ріка в україні.',\n",
              " 'література важлива для розвитку культури.',\n",
              " \"слав'янська єдність об'єднує нас.\",\n",
              " 'українська музика вражає своєю глибиною.',\n",
              " 'зима принесла сніг і мороз.',\n",
              " 'діти - наше найбільше багатство.']"
            ]
          },
          "execution_count": 179,
          "metadata": {},
          "output_type": "execute_result"
        }
      ],
      "source": [
        "ukr_sents"
      ]
    },
    {
      "cell_type": "code",
      "execution_count": null,
      "metadata": {
        "id": "p4k3mmAmuuJX",
        "outputId": "e5d2d1a4-4a7d-4daf-a0e6-b3f1305d0e73"
      },
      "outputs": [
        {
          "name": "stdout",
          "output_type": "stream",
          "text": [
            "1\t.\t20\tPUNCT\n",
            "2\ti\t5\tCCONJ\n",
            "3\t-\t4\tPUNCT\n",
            "4\tukraina\t3\tADJ, NOUN\n",
            "5\tjest\t3\tAUX\n",
            "6\tna\t3\tADP\n",
            "7\tto\t3\tAUX\n",
            "8\tswoją\t2\tDET\n",
            "9\tukraiński\t2\tADJ\n",
            "10\tukrainy\t2\tNOUN\n",
            "11\tma\t2\tVERB\n",
            "12\tbogactwo\t2\tNOUN\n",
            "13\tukraińska\t2\tADJ\n",
            "14\tniepodległe\t1\tADJ\n",
            "15\tpaństwo\t1\tNOUN\n",
            "16\tkocham\t1\tVERB\n",
            "17\trodzinę\t1\tNOUN\n",
            "18\tswój\t1\tDET\n",
            "19\tnaród\t1\tNOUN\n",
            "20\tjęzyk\t1\tNOUN\n",
            "21\tmelodyjny\t1\tADJ\n",
            "22\tpiękny\t1\tADJ\n",
            "23\tkijów\t1\tNOUN\n",
            "24\tstolica\t1\tNOUN\n",
            "25\tkarpaty\t1\tNOUN\n",
            "26\tsłyną\t1\tVERB\n",
            "27\tze\t1\tADP\n",
            "28\tswojego\t1\tDET\n",
            "29\tpiękna\t1\tNOUN\n",
            "30\tsłońce\t1\tNOUN\n",
            "31\tświeci\t1\tVERB\n",
            "32\tjasno\t1\tADV\n",
            "33\tniebie\t1\tNOUN\n",
            "34\tbogate\t1\tNOUN\n",
            "35\tdziedzictwo\t1\tNOUN\n",
            "36\tkulturowe\t1\tADJ\n",
            "37\tmorze\t1\tNOUN\n",
            "38\tczarne\t1\tADJ\n",
            "39\tznajduje\t1\tVERB\n",
            "40\tsię\t1\tPRON\n",
            "41\tpołudniu\t1\tNOUN\n",
            "42\ttaras\t1\tNOUN\n",
            "43\tszewczenko\t1\tNOUN\n",
            "44\twielki\t1\tADJ\n",
            "45\tpoeta\t1\tNOUN\n",
            "46\tznana\t1\tADJ\n",
            "47\tz\t1\tADP\n",
            "48\tgościnności\t1\tNOUN\n",
            "49\tżycie\t1\tNOUN\n",
            "50\tpodróż\t1\tNOUN\n",
            "51\tnauka\t1\tNOUN\n",
            "52\tkłosy\t1\tNOUN\n",
            "53\tchleba\t1\tNOUN\n",
            "54\tsymbolizują\t1\tVERB\n",
            "55\tziemi\t1\tNOUN\n",
            "56\tkuchnia\t1\tNOUN\n",
            "57\tróżnorodna\t1\tADJ\n",
            "58\tsmaczna\t1\tADJ\n",
            "59\thaftowana\t1\tADJ\n",
            "60\tkoszula\t1\tNOUN\n",
            "61\tnarodowy\t1\tADJ\n",
            "62\tstrój\t1\tNOUN\n",
            "63\tdniepr\t1\tNOUN\n",
            "64\tnajwiększa\t1\tADJ\n",
            "65\trzeka\t1\tNOUN\n",
            "66\tukrainie\t1\tNOUN\n",
            "67\tliteratura\t1\tNOUN\n",
            "68\tznaczenie\t1\tNOUN\n",
            "69\tdla\t1\tADP\n",
            "70\trozwoju\t1\tNOUN\n",
            "71\tkultury\t1\tNOUN\n",
            "72\tsłowiańska\t1\tADJ\n",
            "73\tjedność\t1\tNOUN\n",
            "74\tnas\t1\tPRON\n",
            "75\tłączy\t1\tVERB\n",
            "76\tmuzyka\t1\tNOUN\n",
            "77\tzachwyca\t1\tVERB\n",
            "78\tgłębią\t1\tNOUN\n",
            "79\tzima\t1\tNOUN\n",
            "80\tprzyniosła\t1\tVERB\n",
            "81\tśnieg\t1\tNOUN\n",
            "82\tmróz\t1\tPROPN\n",
            "83\tdzieci\t1\tNOUN\n",
            "84\tnasze\t1\tDET\n",
            "85\tnajwiększe\t1\tADJ\n"
          ]
        }
      ],
      "source": [
        "import spacy\n",
        "\n",
        "# Load the Polish Spacy model\n",
        "nlp = spacy.load(\"pl_core_news_sm\")\n",
        "\n",
        "\n",
        "# Initialize an empty dictionary for the frequency counts with POS\n",
        "word_freq_dict = {}\n",
        "\n",
        "# Process the text and count word frequencies with POS tagging, including punctuation\n",
        "for sentence in pl_tokenized:\n",
        "    doc = nlp(sentence)\n",
        "    for token in doc:\n",
        "        word = token.text.lower()  # Convert to lowercase\n",
        "        if word in word_freq_dict:\n",
        "            word_freq_dict[word][0] += 1  # Increment frequency\n",
        "        else:\n",
        "            word_freq_dict[word] = [1, []]  # Initialize with frequency and empty POS list\n",
        "        pos = token.pos_\n",
        "        if pos not in word_freq_dict[word][1]:\n",
        "            word_freq_dict[word][1].append(pos)  # Append unique POS\n",
        "\n",
        "# Sort the word frequency dictionary by frequency\n",
        "sorted_freq_dict = sorted(word_freq_dict.items(), key=lambda item: item[1][0], reverse=True)\n",
        "\n",
        "# Create the frequency dictionary file\n",
        "with open(\"dict-pl.txt\", \"w\", encoding=\"utf-8\") as file:\n",
        "    for index, (word, (freq, pos_list)) in enumerate(sorted_freq_dict, start=1):\n",
        "        # Combine the POS list into a comma-separated string\n",
        "        pos_str = \", \".join(pos_list)\n",
        "        line = f\"{index}\\t{word}\\t{freq}\\t{pos_str}\\n\"\n",
        "        file.write(line)\n",
        "\n",
        "# Print the sorted frequency dictionary (for reference)\n",
        "for index, (word, (freq, pos_list)) in enumerate(sorted_freq_dict, start=1):\n",
        "    pos_str = \", \".join(pos_list)\n",
        "    print(f\"{index}\\t{word}\\t{freq}\\t{pos_str}\")\n"
      ]
    },
    {
      "cell_type": "code",
      "execution_count": null,
      "metadata": {
        "id": "zrttfFIiuuJa",
        "outputId": "b8040f1e-ff56-4405-cafd-bafa15c8c1da"
      },
      "outputs": [
        {
          "name": "stdout",
          "output_type": "stream",
          "text": [
            "1\t.\t20\tPUNCT\n",
            "2\t-\t7\tPUNCT\n",
            "3\tі\t5\tCCONJ\n",
            "4\tукраїна\t3\tPROPN\n",
            "5\tукраїнська\t3\tADJ\n",
            "6\tсвоєю\t3\tDET\n",
            "7\tукраїни\t2\tPROPN\n",
            "8\tна\t2\tADP\n",
            "9\tбагатство\t2\tNOUN\n",
            "10\tнезалежна\t1\tADJ\n",
            "11\tдержава\t1\tNOUN\n",
            "12\tлюблю\t1\tVERB\n",
            "13\tсвою\t1\tDET\n",
            "14\tродину\t1\tNOUN\n",
            "15\tсвій\t1\tDET\n",
            "16\tнарод\t1\tNOUN\n",
            "17\tмова\t1\tNOUN\n",
            "18\tмелодійна\t1\tADJ\n",
            "19\tкрасива\t1\tADJ\n",
            "20\tкиїв\t1\tPROPN\n",
            "21\tстолиця\t1\tNOUN\n",
            "22\tкарпати\t1\tNOUN\n",
            "23\tславляться\t1\tVERB\n",
            "24\tкрасою\t1\tNOUN\n",
            "25\tсонце\t1\tNOUN\n",
            "26\tсяє\t1\tVERB\n",
            "27\tяскраво\t1\tADV\n",
            "28\tнебі\t1\tNOUN\n",
            "29\tмає\t1\tVERB\n",
            "30\tбагатий\t1\tADJ\n",
            "31\tкультурний\t1\tADJ\n",
            "32\tспадок\t1\tNOUN\n",
            "33\tчорне\t1\tADJ\n",
            "34\tморе\t1\tNOUN\n",
            "35\tрозташоване\t1\tADJ\n",
            "36\tпівдні\t1\tNOUN\n",
            "37\tтарас\t1\tPROPN\n",
            "38\tшевченко\t1\tPROPN\n",
            "39\tвеликий\t1\tADJ\n",
            "40\tпоет\t1\tNOUN\n",
            "41\tвідома\t1\tADJ\n",
            "42\tгостинністю\t1\tNOUN\n",
            "43\tжиття\t1\tNOUN\n",
            "44\tце\t1\tPRON\n",
            "45\tподорож\t1\tNOUN\n",
            "46\tнавчання\t1\tNOUN\n",
            "47\tколосся\t1\tNOUN\n",
            "48\tхліба\t1\tNOUN\n",
            "49\tсимволізують\t1\tVERB\n",
            "50\tземлі\t1\tNOUN\n",
            "51\tкухня\t1\tNOUN\n",
            "52\tрізноманітна\t1\tADJ\n",
            "53\tсмачна\t1\tADJ\n",
            "54\tвишиванка\t1\tNOUN\n",
            "55\tнаціональний\t1\tADJ\n",
            "56\tукраїнський\t1\tADJ\n",
            "57\tодяг\t1\tNOUN\n",
            "58\tдніпро\t1\tPROPN\n",
            "59\tнайбільша\t1\tADJ\n",
            "60\tріка\t1\tNOUN\n",
            "61\tв\t1\tADP\n",
            "62\tукраїні\t1\tPROPN\n",
            "63\tлітература\t1\tNOUN\n",
            "64\tважлива\t1\tADJ\n",
            "65\tдля\t1\tADP\n",
            "66\tрозвитку\t1\tNOUN\n",
            "67\tкультури\t1\tNOUN\n",
            "68\tслав'янська\t1\tADJ\n",
            "69\tєдність\t1\tNOUN\n",
            "70\tоб'єднує\t1\tVERB\n",
            "71\tнас\t1\tPRON\n",
            "72\tмузика\t1\tNOUN\n",
            "73\tвражає\t1\tVERB\n",
            "74\tглибиною\t1\tNOUN\n",
            "75\tзима\t1\tNOUN\n",
            "76\tпринесла\t1\tVERB\n",
            "77\tсніг\t1\tNOUN\n",
            "78\tмороз\t1\tNOUN\n",
            "79\tдіти\t1\tNOUN\n",
            "80\tнаше\t1\tDET\n",
            "81\tнайбільше\t1\tADJ\n"
          ]
        }
      ],
      "source": [
        "import spacy\n",
        "\n",
        "# Load the Ukrainian Spacy model\n",
        "nlp = spacy.load(\"uk_core_news_sm\")\n",
        "\n",
        "\n",
        "# Initialize an empty dictionary for the frequency counts with POS\n",
        "word_freq_dict = {}\n",
        "\n",
        "# Process the text and count word frequencies with POS tagging, including punctuation\n",
        "for sentence in ukr_sents:\n",
        "    doc = nlp(sentence)\n",
        "    for token in doc:\n",
        "        word = token.text.lower()  # Convert to lowercase\n",
        "        if word in word_freq_dict:\n",
        "            word_freq_dict[word][0] += 1  # Increment frequency\n",
        "        else:\n",
        "            word_freq_dict[word] = [1, []]  # Initialize with frequency and empty POS list\n",
        "        pos = token.pos_\n",
        "        if pos not in word_freq_dict[word][1]:\n",
        "            word_freq_dict[word][1].append(pos)  # Append unique POS\n",
        "\n",
        "# Sort the word frequency dictionary by frequency\n",
        "sorted_freq_dict = sorted(word_freq_dict.items(), key=lambda item: item[1][0], reverse=True)\n",
        "\n",
        "# Create the frequency dictionary file\n",
        "with open(\"dict-uk.txt\", \"w\", encoding=\"utf-8\") as file:\n",
        "    for index, (word, (freq, pos_list)) in enumerate(sorted_freq_dict, start=1):\n",
        "        # Combine the POS list into a comma-separated string\n",
        "        pos_str = \", \".join(pos_list)\n",
        "        line = f\"{index}\\t{word}\\t{freq}\\t{pos_str}\\n\"\n",
        "        file.write(line)\n",
        "\n",
        "# Print the sorted frequency dictionary (for reference)\n",
        "for index, (word, (freq, pos_list)) in enumerate(sorted_freq_dict, start=1):\n",
        "    pos_str = \", \".join(pos_list)\n",
        "    print(f\"{index}\\t{word}\\t{freq}\\t{pos_str}\")\n"
      ]
    },
    {
      "cell_type": "code",
      "execution_count": null,
      "metadata": {
        "id": "50IgGW37uuJc"
      },
      "outputs": [],
      "source": [
        "import pandas as pd\n",
        "\n",
        "ukr_df = pd.read_csv('dict-uk.txt', delimiter='\\t')"
      ]
    },
    {
      "cell_type": "code",
      "execution_count": null,
      "metadata": {
        "id": "Zh8lMY-wuuJe",
        "outputId": "6c3407da-f93c-4b3f-e923-9650dc6d4c5e"
      },
      "outputs": [
        {
          "data": {
            "text/html": [
              "<div>\n",
              "<style scoped>\n",
              "    .dataframe tbody tr th:only-of-type {\n",
              "        vertical-align: middle;\n",
              "    }\n",
              "\n",
              "    .dataframe tbody tr th {\n",
              "        vertical-align: top;\n",
              "    }\n",
              "\n",
              "    .dataframe thead th {\n",
              "        text-align: right;\n",
              "    }\n",
              "</style>\n",
              "<table border=\"1\" class=\"dataframe\">\n",
              "  <thead>\n",
              "    <tr style=\"text-align: right;\">\n",
              "      <th></th>\n",
              "      <th>id</th>\n",
              "      <th>token</th>\n",
              "      <th>frequency</th>\n",
              "      <th>pos_tag</th>\n",
              "    </tr>\n",
              "  </thead>\n",
              "  <tbody>\n",
              "    <tr>\n",
              "      <th>0</th>\n",
              "      <td>1</td>\n",
              "      <td>.</td>\n",
              "      <td>20</td>\n",
              "      <td>PUNCT</td>\n",
              "    </tr>\n",
              "    <tr>\n",
              "      <th>1</th>\n",
              "      <td>2</td>\n",
              "      <td>-</td>\n",
              "      <td>7</td>\n",
              "      <td>PUNCT</td>\n",
              "    </tr>\n",
              "    <tr>\n",
              "      <th>2</th>\n",
              "      <td>3</td>\n",
              "      <td>і</td>\n",
              "      <td>5</td>\n",
              "      <td>CCONJ</td>\n",
              "    </tr>\n",
              "    <tr>\n",
              "      <th>3</th>\n",
              "      <td>4</td>\n",
              "      <td>україна</td>\n",
              "      <td>3</td>\n",
              "      <td>PROPN</td>\n",
              "    </tr>\n",
              "    <tr>\n",
              "      <th>4</th>\n",
              "      <td>5</td>\n",
              "      <td>українська</td>\n",
              "      <td>3</td>\n",
              "      <td>ADJ</td>\n",
              "    </tr>\n",
              "    <tr>\n",
              "      <th>...</th>\n",
              "      <td>...</td>\n",
              "      <td>...</td>\n",
              "      <td>...</td>\n",
              "      <td>...</td>\n",
              "    </tr>\n",
              "    <tr>\n",
              "      <th>76</th>\n",
              "      <td>77</td>\n",
              "      <td>сніг</td>\n",
              "      <td>1</td>\n",
              "      <td>NOUN</td>\n",
              "    </tr>\n",
              "    <tr>\n",
              "      <th>77</th>\n",
              "      <td>78</td>\n",
              "      <td>мороз</td>\n",
              "      <td>1</td>\n",
              "      <td>NOUN</td>\n",
              "    </tr>\n",
              "    <tr>\n",
              "      <th>78</th>\n",
              "      <td>79</td>\n",
              "      <td>діти</td>\n",
              "      <td>1</td>\n",
              "      <td>NOUN</td>\n",
              "    </tr>\n",
              "    <tr>\n",
              "      <th>79</th>\n",
              "      <td>80</td>\n",
              "      <td>наше</td>\n",
              "      <td>1</td>\n",
              "      <td>DET</td>\n",
              "    </tr>\n",
              "    <tr>\n",
              "      <th>80</th>\n",
              "      <td>81</td>\n",
              "      <td>найбільше</td>\n",
              "      <td>1</td>\n",
              "      <td>ADJ</td>\n",
              "    </tr>\n",
              "  </tbody>\n",
              "</table>\n",
              "<p>81 rows × 4 columns</p>\n",
              "</div>"
            ],
            "text/plain": [
              "    id       token  frequency pos_tag\n",
              "0    1           .         20   PUNCT\n",
              "1    2           -          7   PUNCT\n",
              "2    3           і          5   CCONJ\n",
              "3    4     україна          3   PROPN\n",
              "4    5  українська          3     ADJ\n",
              "..  ..         ...        ...     ...\n",
              "76  77        сніг          1    NOUN\n",
              "77  78       мороз          1    NOUN\n",
              "78  79        діти          1    NOUN\n",
              "79  80        наше          1     DET\n",
              "80  81   найбільше          1     ADJ\n",
              "\n",
              "[81 rows x 4 columns]"
            ]
          },
          "execution_count": 163,
          "metadata": {},
          "output_type": "execute_result"
        }
      ],
      "source": [
        "ukr_df"
      ]
    },
    {
      "cell_type": "code",
      "execution_count": null,
      "metadata": {
        "id": "V0OUAVmZuuJg",
        "outputId": "df69c81a-302c-4efd-b2c4-377df4777e69"
      },
      "outputs": [
        {
          "data": {
            "text/plain": [
              "3"
            ]
          },
          "execution_count": 164,
          "metadata": {},
          "output_type": "execute_result"
        }
      ],
      "source": [
        "res = ukr_df[ukr_df['token']=='україна']\n",
        "res['frequency'].values[0]"
      ]
    },
    {
      "cell_type": "code",
      "execution_count": null,
      "metadata": {
        "id": "fZmZWu7RuuJi",
        "outputId": "880a214b-1c6a-48fe-da50-10997d24f805"
      },
      "outputs": [
        {
          "name": "stdout",
          "output_type": "stream",
          "text": [
            "['україна', '-', 'незалежна', 'держава', '.']\n",
            "['люблю', 'свою', 'родину', 'і', 'свій', 'народ', '.']\n",
            "['українська', 'мова', 'мелодійна', 'і', 'красива', '.']\n",
            "['київ', '-', 'столиця', 'україни', '.']\n",
            "['карпати', 'славляться', 'своєю', 'красою', '.']\n",
            "['сонце', 'сяє', 'яскраво', 'на', 'небі', '.']\n",
            "['україна', 'має', 'багатий', 'культурний', 'спадок', '.']\n",
            "['чорне', 'море', 'розташоване', 'на', 'півдні', 'україни', '.']\n",
            "['тарас', 'шевченко', '-', 'великий', 'поет', '.']\n",
            "['україна', 'відома', 'своєю', 'гостинністю', '.']\n",
            "['життя', '-', 'це', 'подорож', 'і', 'навчання', '.']\n",
            "['колосся', 'хліба', 'символізують', 'багатство', 'землі', '.']\n",
            "['українська', 'кухня', 'різноманітна', 'і', 'смачна', '.']\n",
            "['вишиванка', '-', 'національний', 'український', 'одяг', '.']\n",
            "['дніпро', '-', 'найбільша', 'ріка', 'в', 'україні', '.']\n",
            "['література', 'важлива', 'для', 'розвитку', 'культури', '.']\n",
            "[\"слав'янська\", 'єдність', \"об'єднує\", 'нас', '.']\n",
            "['українська', 'музика', 'вражає', 'своєю', 'глибиною', '.']\n",
            "['зима', 'принесла', 'сніг', 'і', 'мороз', '.']\n",
            "['діти', '-', 'наше', 'найбільше', 'багатство', '.']\n"
          ]
        }
      ],
      "source": [
        "ukr_num_sents = []\n",
        "\n",
        "for sent in ukr_tokenized:\n",
        "    words = \"\"\n",
        "    for word in sent:\n",
        "        res = ukr_df[ukr_df['token']==word]\n",
        "        res = res['id'].values[0]\n",
        "        words += str(res)+' '\n",
        "    ukr_num_sents.append(words)\n",
        "\n"
      ]
    },
    {
      "cell_type": "code",
      "execution_count": null,
      "metadata": {
        "id": "Vz9q3KsmuuJj",
        "outputId": "acc68ff4-3d74-45bf-80ef-7d728e7f40f7"
      },
      "outputs": [
        {
          "data": {
            "text/plain": [
              "['4 2 10 11 1 ',\n",
              " '12 13 14 3 15 16 1 ',\n",
              " '5 17 18 3 19 1 ',\n",
              " '20 2 21 7 1 ',\n",
              " '22 23 6 24 1 ',\n",
              " '25 26 27 8 28 1 ',\n",
              " '4 29 30 31 32 1 ',\n",
              " '33 34 35 8 36 7 1 ',\n",
              " '37 38 2 39 40 1 ',\n",
              " '4 41 6 42 1 ',\n",
              " '43 2 44 45 3 46 1 ',\n",
              " '47 48 49 9 50 1 ',\n",
              " '5 51 52 3 53 1 ',\n",
              " '54 2 55 56 57 1 ',\n",
              " '58 2 59 60 61 62 1 ',\n",
              " '63 64 65 66 67 1 ',\n",
              " '68 69 70 71 1 ',\n",
              " '5 72 73 6 74 1 ',\n",
              " '75 76 77 3 78 1 ',\n",
              " '79 2 80 81 9 1 ']"
            ]
          },
          "execution_count": 167,
          "metadata": {},
          "output_type": "execute_result"
        }
      ],
      "source": [
        "ukr_num_sents"
      ]
    },
    {
      "cell_type": "code",
      "execution_count": null,
      "metadata": {
        "id": "h4AvwqIWuuJk"
      },
      "outputs": [],
      "source": [
        "import pandas as pd\n",
        "\n",
        "pl_df = pd.read_csv('dict-pl.txt', delimiter='\\t')"
      ]
    },
    {
      "cell_type": "code",
      "execution_count": null,
      "metadata": {
        "id": "fR8W54txuuJl",
        "outputId": "7380adfd-0649-4807-eca1-095f1768d892"
      },
      "outputs": [
        {
          "data": {
            "text/html": [
              "<div>\n",
              "<style scoped>\n",
              "    .dataframe tbody tr th:only-of-type {\n",
              "        vertical-align: middle;\n",
              "    }\n",
              "\n",
              "    .dataframe tbody tr th {\n",
              "        vertical-align: top;\n",
              "    }\n",
              "\n",
              "    .dataframe thead th {\n",
              "        text-align: right;\n",
              "    }\n",
              "</style>\n",
              "<table border=\"1\" class=\"dataframe\">\n",
              "  <thead>\n",
              "    <tr style=\"text-align: right;\">\n",
              "      <th></th>\n",
              "      <th>id</th>\n",
              "      <th>token</th>\n",
              "      <th>frequency</th>\n",
              "      <th>pos_tag</th>\n",
              "    </tr>\n",
              "  </thead>\n",
              "  <tbody>\n",
              "    <tr>\n",
              "      <th>0</th>\n",
              "      <td>1</td>\n",
              "      <td>.</td>\n",
              "      <td>20</td>\n",
              "      <td>PUNCT</td>\n",
              "    </tr>\n",
              "    <tr>\n",
              "      <th>1</th>\n",
              "      <td>2</td>\n",
              "      <td>i</td>\n",
              "      <td>5</td>\n",
              "      <td>CCONJ</td>\n",
              "    </tr>\n",
              "    <tr>\n",
              "      <th>2</th>\n",
              "      <td>3</td>\n",
              "      <td>-</td>\n",
              "      <td>4</td>\n",
              "      <td>PUNCT</td>\n",
              "    </tr>\n",
              "    <tr>\n",
              "      <th>3</th>\n",
              "      <td>4</td>\n",
              "      <td>ukraina</td>\n",
              "      <td>3</td>\n",
              "      <td>ADJ, NOUN</td>\n",
              "    </tr>\n",
              "    <tr>\n",
              "      <th>4</th>\n",
              "      <td>5</td>\n",
              "      <td>jest</td>\n",
              "      <td>3</td>\n",
              "      <td>AUX</td>\n",
              "    </tr>\n",
              "    <tr>\n",
              "      <th>...</th>\n",
              "      <td>...</td>\n",
              "      <td>...</td>\n",
              "      <td>...</td>\n",
              "      <td>...</td>\n",
              "    </tr>\n",
              "    <tr>\n",
              "      <th>80</th>\n",
              "      <td>81</td>\n",
              "      <td>śnieg</td>\n",
              "      <td>1</td>\n",
              "      <td>NOUN</td>\n",
              "    </tr>\n",
              "    <tr>\n",
              "      <th>81</th>\n",
              "      <td>82</td>\n",
              "      <td>mróz</td>\n",
              "      <td>1</td>\n",
              "      <td>PROPN</td>\n",
              "    </tr>\n",
              "    <tr>\n",
              "      <th>82</th>\n",
              "      <td>83</td>\n",
              "      <td>dzieci</td>\n",
              "      <td>1</td>\n",
              "      <td>NOUN</td>\n",
              "    </tr>\n",
              "    <tr>\n",
              "      <th>83</th>\n",
              "      <td>84</td>\n",
              "      <td>nasze</td>\n",
              "      <td>1</td>\n",
              "      <td>DET</td>\n",
              "    </tr>\n",
              "    <tr>\n",
              "      <th>84</th>\n",
              "      <td>85</td>\n",
              "      <td>największe</td>\n",
              "      <td>1</td>\n",
              "      <td>ADJ</td>\n",
              "    </tr>\n",
              "  </tbody>\n",
              "</table>\n",
              "<p>85 rows × 4 columns</p>\n",
              "</div>"
            ],
            "text/plain": [
              "    id       token  frequency    pos_tag\n",
              "0    1           .         20      PUNCT\n",
              "1    2           i          5      CCONJ\n",
              "2    3           -          4      PUNCT\n",
              "3    4     ukraina          3  ADJ, NOUN\n",
              "4    5        jest          3        AUX\n",
              "..  ..         ...        ...        ...\n",
              "80  81       śnieg          1       NOUN\n",
              "81  82        mróz          1      PROPN\n",
              "82  83      dzieci          1       NOUN\n",
              "83  84       nasze          1        DET\n",
              "84  85  największe          1        ADJ\n",
              "\n",
              "[85 rows x 4 columns]"
            ]
          },
          "execution_count": 169,
          "metadata": {},
          "output_type": "execute_result"
        }
      ],
      "source": [
        "pl_df"
      ]
    },
    {
      "cell_type": "code",
      "execution_count": null,
      "metadata": {
        "id": "xA736xsGuuJn"
      },
      "outputs": [],
      "source": [
        "pl_num_sents = []\n",
        "\n",
        "for sent in pl_tokenized:\n",
        "    words = \"\"\n",
        "    for word in sent:\n",
        "        res = pl_df[pl_df['token']==word]\n",
        "        res = res['id'].values[0]\n",
        "        words += str(res)+' '\n",
        "    pl_num_sents.append(words)"
      ]
    },
    {
      "cell_type": "code",
      "execution_count": null,
      "metadata": {
        "id": "fUqOinW_uuJn",
        "outputId": "0980ea9d-4e9f-43bc-e225-2f937be5edb0"
      },
      "outputs": [
        {
          "data": {
            "text/plain": [
              "['4 3 14 15 1 ',\n",
              " '16 8 17 2 18 19 1 ',\n",
              " '20 9 5 21 2 22 1 ',\n",
              " '23 3 24 10 1 ',\n",
              " '25 26 27 28 29 1 ',\n",
              " '30 31 32 6 33 1 ',\n",
              " '4 11 34 35 36 1 ',\n",
              " '37 38 39 40 6 41 10 1 ',\n",
              " '42 43 3 44 45 1 ',\n",
              " '4 5 46 47 48 1 ',\n",
              " '49 7 50 2 51 1 ',\n",
              " '52 53 54 12 55 1 ',\n",
              " '56 13 5 57 2 58 1 ',\n",
              " '59 60 3 61 62 9 1 ',\n",
              " '63 7 64 65 6 66 1 ',\n",
              " '67 11 68 69 70 71 1 ',\n",
              " '72 73 74 75 1 ',\n",
              " '76 13 77 8 78 1 ',\n",
              " '79 80 81 2 82 1 ',\n",
              " '83 7 84 85 12 1 ']"
            ]
          },
          "execution_count": 171,
          "metadata": {},
          "output_type": "execute_result"
        }
      ],
      "source": [
        "pl_num_sents"
      ]
    },
    {
      "cell_type": "code",
      "execution_count": null,
      "metadata": {
        "id": "pHuZ2444uuJo"
      },
      "outputs": [],
      "source": [
        "sents_freqs = ['1']*20"
      ]
    },
    {
      "cell_type": "code",
      "execution_count": null,
      "metadata": {
        "id": "qGp0zojeuuJo",
        "outputId": "542e8ffb-05cb-4cc3-e4b5-917a3fa2cff6"
      },
      "outputs": [
        {
          "data": {
            "text/plain": [
              "['1',\n",
              " '1',\n",
              " '1',\n",
              " '1',\n",
              " '1',\n",
              " '1',\n",
              " '1',\n",
              " '1',\n",
              " '1',\n",
              " '1',\n",
              " '1',\n",
              " '1',\n",
              " '1',\n",
              " '1',\n",
              " '1',\n",
              " '1',\n",
              " '1',\n",
              " '1',\n",
              " '1',\n",
              " '1']"
            ]
          },
          "execution_count": 175,
          "metadata": {},
          "output_type": "execute_result"
        }
      ],
      "source": [
        "sents_freqs"
      ]
    },
    {
      "cell_type": "code",
      "execution_count": null,
      "metadata": {
        "id": "12FbVFZ9uuJp"
      },
      "outputs": [],
      "source": [
        "with open('bitext.txt', 'w') as file:\n",
        "    for it1, it2, it3 in zip(sents_freqs,ukr_num_sents,pl_num_sents):\n",
        "        file.write(f\"{it1}\\n{it2}\\n{it3}\\n\")"
      ]
    },
    {
      "cell_type": "code",
      "execution_count": null,
      "metadata": {
        "id": "Y8mIKlakuuJq"
      },
      "outputs": [],
      "source": []
    }
  ],
  "metadata": {
    "kernelspec": {
      "display_name": "Python 3",
      "language": "python",
      "name": "python3"
    },
    "language_info": {
      "codemirror_mode": {
        "name": "ipython",
        "version": 3
      },
      "file_extension": ".py",
      "mimetype": "text/x-python",
      "name": "python",
      "nbconvert_exporter": "python",
      "pygments_lexer": "ipython3",
      "version": "3.10.12"
    },
    "orig_nbformat": 4,
    "colab": {
      "provenance": []
    }
  },
  "nbformat": 4,
  "nbformat_minor": 0
}
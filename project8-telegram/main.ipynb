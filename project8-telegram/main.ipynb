{
 "cells": [
  {
   "cell_type": "code",
   "execution_count": 1,
   "metadata": {},
   "outputs": [
    {
     "ename": "ModuleNotFoundError",
     "evalue": "No module named 'telethon'",
     "output_type": "error",
     "traceback": [
      "\u001b[0;31m---------------------------------------------------------------------------\u001b[0m",
      "\u001b[0;31mModuleNotFoundError\u001b[0m                       Traceback (most recent call last)",
      "Cell \u001b[0;32mIn[1], line 1\u001b[0m\n\u001b[0;32m----> 1\u001b[0m \u001b[38;5;28;01mfrom\u001b[39;00m \u001b[38;5;21;01mtelethon\u001b[39;00m \u001b[38;5;28;01mimport\u001b[39;00m TelegramClient\n\u001b[1;32m      2\u001b[0m \u001b[38;5;28;01mfrom\u001b[39;00m \u001b[38;5;21;01mtelethon\u001b[39;00m\u001b[38;5;21;01m.\u001b[39;00m\u001b[38;5;21;01mtl\u001b[39;00m\u001b[38;5;21;01m.\u001b[39;00m\u001b[38;5;21;01mfunctions\u001b[39;00m\u001b[38;5;21;01m.\u001b[39;00m\u001b[38;5;21;01mchannels\u001b[39;00m \u001b[38;5;28;01mimport\u001b[39;00m GetFullChannel\n\u001b[1;32m      3\u001b[0m \u001b[38;5;28;01mfrom\u001b[39;00m \u001b[38;5;21;01mtelethon\u001b[39;00m\u001b[38;5;21;01m.\u001b[39;00m\u001b[38;5;21;01mtl\u001b[39;00m\u001b[38;5;21;01m.\u001b[39;00m\u001b[38;5;21;01mfunctions\u001b[39;00m\u001b[38;5;21;01m.\u001b[39;00m\u001b[38;5;21;01mmessages\u001b[39;00m \u001b[38;5;28;01mimport\u001b[39;00m GetHistory\n",
      "\u001b[0;31mModuleNotFoundError\u001b[0m: No module named 'telethon'"
     ]
    }
   ],
   "source": [
    "from telethon import TelegramClient\n",
    "from telethon.tl.functions.channels import GetFullChannel\n",
    "from telethon.tl.functions.messages import GetHistory\n",
    "from telethon.tl.types import InputPeerChannel\n",
    "import pytz\n",
    "from datetime import datetime\n",
    "\n",
    "# Constants - replace these with your actual values\n",
    "api_id = 'YOUR_API_ID'\n",
    "api_hash = 'YOUR_API_HASH'\n",
    "username = 'YOUR_USERNAME'\n",
    "phone_number = 'YOUR_PHONE_NUMBER'\n",
    "\n",
    "# Initialize the Telegram client\n",
    "client = TelegramClient('session_name', api_id, api_hash)\n",
    "\n",
    "async def main():\n",
    "    # Connect to the Telegram server\n",
    "    await client.start(phone=phone_number)\n",
    "    me = await client.get_me()\n",
    "\n",
    "    # Print user info\n",
    "    print(f'Name: {me.first_name} {me.last_name}')\n",
    "    print(f'Username: {me.username}')\n",
    "    print(f'Lab number: 6')\n",
    "\n",
    "    # Create or access a channel\n",
    "    channel = await client.get_entity('YOUR_CHANNEL_USERNAME') # replace with your channel username\n",
    "\n",
    "    # Get channel info\n",
    "    full_channel = await client(GetFullChannel(channel=channel))\n",
    "    print(f'Channel ID: {full_channel.chats[0].id}')\n",
    "    print(f'Channel Title: {full_channel.chats[0].title}')\n",
    "    print(f'Channel Username: {full_channel.chats[0].username}')\n",
    "    print(f'Channel Creation Date: {datetime.utcfromtimestamp(full_channel.chats[0].date.timestamp()).strftime(\"%Y-%m-%d %H:%M:%S\")}')\n",
    "\n",
    "    # Get the last 4 messages from the channel\n",
    "    history = await client(GetHistory(peer=InputPeerChannel(channel.id, channel.access_hash), limit=4))\n",
    "    kyiv_tz = pytz.timezone('Europe/Kyiv')\n",
    "    \n",
    "    for message in history.messages:\n",
    "        publish_date = message.date.astimezone(kyiv_tz)\n",
    "        text = message.message\n",
    "        word_count = len(text.split())\n",
    "        char_count = len(text)\n",
    "        \n",
    "        print(f'Date: {publish_date.strftime(\"%Y-%m-%d\")}')\n",
    "        print(f'Time: {publish_date.strftime(\"%H:%M:%S\")}')\n",
    "        print(f'Text: {text}')\n",
    "        print(f'Character Count: {char_count}')\n",
    "        print(f'Word Count: {word_count}')\n",
    "        print()\n",
    "\n",
    "    # Save all posts to a text file\n",
    "    with open('chernihiv_posts.txt', 'w') as f:\n",
    "        for message in history.messages:\n",
    "            publish_date = message.date.astimezone(kyiv_tz)\n",
    "            text = message.message\n",
    "            f.write(f'Date: {publish_date.strftime(\"%Y-%m-%d %H:%M:%S\")}\\n')\n",
    "            f.write(f'Text: {text}\\n\\n')\n",
    "\n",
    "    # Connect to an existing channel and count total posts\n",
    "    existing_channel = await client.get_entity('tpoloph3_2022')  # replace with your existing channel\n",
    "    history = await client(GetHistory(peer=InputPeerChannel(existing_channel.id, existing_channel.access_hash), limit=0))\n",
    "    print(f'Total number of posts in the channel: {history.count}')\n",
    "\n",
    "# Run the script\n",
    "with client:\n",
    "    client.loop.run_until_complete(main())\n"
   ]
  },
  {
   "cell_type": "code",
   "execution_count": null,
   "metadata": {},
   "outputs": [],
   "source": []
  }
 ],
 "metadata": {
  "kernelspec": {
   "display_name": "Python 3",
   "language": "python",
   "name": "python3"
  },
  "language_info": {
   "codemirror_mode": {
    "name": "ipython",
    "version": 3
   },
   "file_extension": ".py",
   "mimetype": "text/x-python",
   "name": "python",
   "nbconvert_exporter": "python",
   "pygments_lexer": "ipython3",
   "version": "3.10.12"
  }
 },
 "nbformat": 4,
 "nbformat_minor": 2
}
